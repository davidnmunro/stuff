{
 "cells": [
  {
   "cell_type": "code",
   "execution_count": 1,
   "id": "66f9b1d4",
   "metadata": {},
   "outputs": [],
   "source": [
    "import openseespy.opensees as ops"
   ]
  },
  {
   "cell_type": "code",
   "execution_count": 2,
   "id": "dbd173ce",
   "metadata": {},
   "outputs": [
    {
     "data": {
      "text/plain": [
       "\"I'm going to define a brick wall that looks like this:\\n\\n_|___|___|___|___|___|\\n___|___|___|___|___|__\\n_|___|___|___|___|___|\\n___|___|___|___|___|__\\n_|___|___|___|___|___| Y\\n___|___|___|___|___|__\\n_|___|___|___|___|___|\\n___|___|___|___|___|__\\n_|___|___|___|___|___|\\n___|___|___|___|___|__\\n          X\\n\\n\\n\\nIt's going to use eight node brick elements for both the brick and the mortar, \\nand a different material model for each, I'm assuming the wall is one brick thick in the Z direction.\\n\\n 6 o-------7o\\n  /|       /|\\n5/ |     6/ |\\no--------o  |\\n|  o-----|--o\\n| / 2    | / 3\\n|/       |/\\no--------o\\n 1        4\\n\""
      ]
     },
     "execution_count": 2,
     "metadata": {},
     "output_type": "execute_result"
    }
   ],
   "source": [
    "\"\"\"I'm going to define a brick wall that looks like this:\n",
    "\n",
    "_|___|___|___|___|___|\n",
    "___|___|___|___|___|__\n",
    "_|___|___|___|___|___|\n",
    "___|___|___|___|___|__\n",
    "_|___|___|___|___|___| Y\n",
    "___|___|___|___|___|__\n",
    "_|___|___|___|___|___|\n",
    "___|___|___|___|___|__\n",
    "_|___|___|___|___|___|\n",
    "___|___|___|___|___|__\n",
    "          X\n",
    "\n",
    "\n",
    "\n",
    "It's going to use eight node brick elements for both the brick and the mortar, \n",
    "and a different material model for each, I'm assuming the wall is one brick thick in the Z direction.\n",
    "\n",
    " 6 o-------7o\n",
    "  /|       /|\n",
    "5/ |     6/ |\n",
    "o--------o  |\n",
    "|  o-----|--o\n",
    "| / 2    | / 3\n",
    "|/       |/\n",
    "o--------o\n",
    " 1        4\n",
    "\"\"\""
   ]
  },
  {
   "cell_type": "code",
   "execution_count": 3,
   "id": "eb390dbb",
   "metadata": {},
   "outputs": [],
   "source": [
    "#Geometry Inputs\n",
    "\n",
    "#Wall dimensions\n",
    "noBricksX = 20\n",
    "noBricksY = 20\n",
    "\n",
    "#Brick Dimensions - meters\n",
    "brickX = 0.215\n",
    "brickY = 0.065\n",
    "brickZ = 0.1025\n",
    "\n",
    "#Mortar Dimensions\n",
    "mortarThickness = 0.01"
   ]
  },
  {
   "cell_type": "code",
   "execution_count": 4,
   "id": "85f9ecb9",
   "metadata": {},
   "outputs": [],
   "source": [
    "# #Material Inputs\n",
    "# #fpc: concrete compressive strength at 28 days (compression is negative)\n",
    "# #epsc0: concrete strain at maximum strength\n",
    "# #fpcu: concrete crushing strength\n",
    "# #epsU: concrete strain at crushing strength\n",
    "\n",
    "# brickMaterialModel = 'concrete01'\n",
    "# mortarMaterialModel = 'concrete01'\n",
    "\n",
    "# brickMaterialParams = {'fpc':10, 'epsc0':10, 'fpcu':10, 'epsU':10}\n",
    "# mortarMaterialParams = {'fpc':10, 'epsc0':10, 'fpcu':10, 'epsU':10}"
   ]
  },
  {
   "cell_type": "code",
   "execution_count": 5,
   "id": "0b006b3b",
   "metadata": {},
   "outputs": [],
   "source": [
    "import numpy as np\n",
    "\n",
    "nNodesX = noBricksX*2\n",
    "nNodesY = noBricksY*2\n",
    "nNodesZ = 2\n",
    "\n",
    "nodeArray = np.zeros(shape=(nNodesY, nNodesX, nNodesZ))\n",
    "\n",
    "idx = 1\n",
    "for i,j,k in np.ndindex(nNodesY, nNodesX, nNodesZ):\n",
    "    nodeArray[i,j,k] = idx\n",
    "    idx += 1\n"
   ]
  },
  {
   "cell_type": "code",
   "execution_count": 6,
   "id": "c046afaa",
   "metadata": {},
   "outputs": [],
   "source": [
    "coordArray = np.zeros(shape=(nNodesY, nNodesX, 3))\n",
    "\n",
    "X=np.zeros(shape=(nNodesX,))    \n",
    "spacing = [brickX, mortarThickness]\n",
    "\n",
    "for n in range(1, nNodesX):\n",
    "    X[n] = X[n-1]+spacing[(np.mod(n-1,2))]\n",
    "    \n",
    "\n",
    "Y=np.zeros(shape=(nNodesY,))    \n",
    "spacing = [brickY, mortarThickness]\n",
    "for n in range(1, nNodesY):\n",
    "    Y[n] = Y[n-1]+spacing[(np.mod(n-1,2))]\n",
    "    \n",
    "Z=np.zeros(shape=(nNodesZ,))    \n",
    "spacing = [brickZ]\n",
    "\n",
    "for n in range(1, nNodesZ):\n",
    "    Z[n] = Z[n-1]+spacing[0]\n",
    "    \n",
    "wallX, wallY, wallZ = np.meshgrid(X,Y,Z)\n",
    "\n",
    "wall = np.stack((wallX, wallY, wallZ),axis=3)"
   ]
  },
  {
   "cell_type": "code",
   "execution_count": 7,
   "id": "e13a11e9",
   "metadata": {},
   "outputs": [],
   "source": [
    "import opsvis as opsv\n",
    "\n",
    "ops.wipe()\n",
    "ops.model('Basic', '-ndm', 3, '-ndf', 3)\n",
    "\n",
    "eleArray = []\n",
    "matArray = []\n",
    "\n",
    "for i,j,k in np.ndindex(nNodesY,nNodesX,nNodesZ):\n",
    "    ops.node(int(nodeArray[i,j,k]), *wall[i,j,k])\n",
    "\n",
    "for i,j,k in np.ndindex(nNodesY-1,nNodesX-1,nNodesZ-1):\n",
    "    \n",
    "    eleArray.append([nodeArray[i,j,k], nodeArray[i,j+1,k], nodeArray[i,j+1,k+1], nodeArray[i,j,k+1],\n",
    "                    nodeArray[i+1,j,k], nodeArray[i+1,j+1,k], nodeArray[i+1,j+1,k+1], nodeArray[i+1,j,k+1]])\n",
    "    if np.mod(i,2)==1 or np.mod(j,2)==1:\n",
    "        mat='mortar'\n",
    "    else:\n",
    "        mat='brick'\n",
    "    matArray.append(mat)\n",
    "    \n",
    "eleArray = np.array(eleArray).astype(int)"
   ]
  },
  {
   "cell_type": "code",
   "execution_count": 8,
   "id": "2ee5a96d",
   "metadata": {},
   "outputs": [
    {
     "name": "stderr",
     "output_type": "stream",
     "text": [
      "WARNING material type Damage2p is unknown\n"
     ]
    },
    {
     "ename": "OpenSeesError",
     "evalue": "See stderr output",
     "output_type": "error",
     "traceback": [
      "\u001b[0;31m---------------------------------------------------------------------------\u001b[0m",
      "\u001b[0;31mOpenSeesError\u001b[0m                             Traceback (most recent call last)",
      "Cell \u001b[0;32mIn[8], line 11\u001b[0m\n\u001b[1;32m      1\u001b[0m \u001b[38;5;66;03m# ops.nDMaterial('DruckerPrager', matTag, K, G, sigmaY, rho, rhoBar, \u001b[39;00m\n\u001b[1;32m      2\u001b[0m \u001b[38;5;66;03m#             Kinf, Ko, delta1, delta2, H, theta, density, atmPressure=101e3)\u001b[39;00m\n\u001b[1;32m      3\u001b[0m \n\u001b[0;32m   (...)\u001b[0m\n\u001b[1;32m      8\u001b[0m \u001b[38;5;66;03m#ops.nDMaterial('ElasticIsotropic', 1, 210E9, 0.3, 7800)\u001b[39;00m\n\u001b[1;32m      9\u001b[0m \u001b[38;5;66;03m#ops.nDMaterial('ElasticIsotropic', 2, 210E9, 0.3, 7800)\u001b[39;00m\n\u001b[0;32m---> 11\u001b[0m ops\u001b[38;5;241m.\u001b[39mnDMaterial(\u001b[38;5;124m'\u001b[39m\u001b[38;5;124mDamage2p\u001b[39m\u001b[38;5;124m'\u001b[39m, \u001b[38;5;241m1\u001b[39m, \u001b[38;5;241m9E6\u001b[39m)\n\u001b[1;32m     12\u001b[0m ops\u001b[38;5;241m.\u001b[39mnDMaterial(\u001b[38;5;124m'\u001b[39m\u001b[38;5;124mDamage2p\u001b[39m\u001b[38;5;124m'\u001b[39m, \u001b[38;5;241m2\u001b[39m, \u001b[38;5;241m17E6\u001b[39m)\n\u001b[1;32m     14\u001b[0m eleTag \u001b[38;5;241m=\u001b[39m \u001b[38;5;241m1\u001b[39m\n",
      "\u001b[0;31mOpenSeesError\u001b[0m: See stderr output"
     ]
    }
   ],
   "source": [
    "# ops.nDMaterial('DruckerPrager', matTag, K, G, sigmaY, rho, rhoBar, \n",
    "#             Kinf, Ko, delta1, delta2, H, theta, density, atmPressure=101e3)\n",
    "\n",
    "#ops.nDMaterial('DruckerPrager', 1, 1E10, 1E10, 1E10, 1400.0, 1400.0, 1.0, 1.0, 1.0, 1.0, 1.0, 1.0, 1.0)\n",
    "#ops.nDMaterial('DruckerPrager', 2, 1E5, 1E10, 1E10, 1400.0, 1400.0, 1.0, 1.0, 1.0, 1.0, 1.0, 1.0, 1.0)\n",
    "\n",
    "\n",
    "#ops.nDMaterial('ElasticIsotropic', 1, 210E9, 0.3, 7800)\n",
    "#ops.nDMaterial('ElasticIsotropic', 2, 210E9, 0.3, 7800)\n",
    "\n",
    "ops.nDMaterial('Damage2p', 1, 9E6)\n",
    "ops.nDMaterial('Damage2p', 2, 17E6)\n",
    "\n",
    "eleTag = 1\n",
    "brickMatTag = 1\n",
    "mortarMatTag = 2\n",
    "\n",
    "for m, eleNodes in enumerate(eleArray):\n",
    "    eleNodes = [int(e)for e in eleNodes]\n",
    "    if matArray[m] == 'brick':\n",
    "        ops.element('stdBrick', eleTag, *eleNodes, brickMatTag)\n",
    "        eleTag+= 1\n",
    "        \n",
    "    elif matArray[m] == 'mortar':\n",
    "        ops.element('stdBrick', eleTag, *eleNodes, mortarMatTag)\n",
    "        eleTag+= 1"
   ]
  },
  {
   "cell_type": "code",
   "execution_count": null,
   "id": "673e3f83",
   "metadata": {},
   "outputs": [],
   "source": [
    "#fix all four edges\n",
    "xMinNodes = nodeArray[:,0,:].flatten().astype(int)\n",
    "xMaxNodes = nodeArray[:,-1,:].flatten().astype(int)\n",
    "\n",
    "yMinNodes = nodeArray[0,1:-1,:].flatten().astype(int)\n",
    "yMaxNodes = nodeArray[-1,1:-1,:].flatten().astype(int)\n",
    "\n",
    "for support in np.concatenate([xMinNodes, xMaxNodes, yMinNodes, yMaxNodes]):\n",
    "    ops.fix(int(support), *[1,1,1])\n",
    "    \n",
    "# for support in yMinNodes:\n",
    "#     ops.fix(int(support), *[1,1,1])"
   ]
  },
  {
   "cell_type": "code",
   "execution_count": null,
   "id": "2d353585",
   "metadata": {},
   "outputs": [],
   "source": [
    "ops.timeSeries('Linear', 1)\n",
    "ops.pattern('Plain', 1, 1)\n",
    "\n",
    "for node in ops.getNodeTags():\n",
    "    ops.load(node, *[0,0,1])"
   ]
  },
  {
   "cell_type": "code",
   "execution_count": null,
   "id": "3db9fc79",
   "metadata": {},
   "outputs": [],
   "source": [
    "import numpy as np\n",
    "import os\n",
    "import vfo.vfo as vfo\n",
    "\n",
    "ControlNode=int(nodeArray[int(nodeArray.shape[0]/2), int(nodeArray.shape[0]/2), 0]) #somewhere near the moddle\n",
    "ControlDOF=3\n",
    "MaxDisp=1\n",
    "DispIncr=0.1\n",
    "NstepsPush=int(MaxDisp/DispIncr)\n",
    "\n",
    "# Analysis options\n",
    "ops.system('BandGeneral')\n",
    "ops.numberer('Plain')\n",
    "ops.constraints('Plain')\n",
    "ops.test('NormDispIncr', 1.0e-5,  100 )\n",
    "ops.integrator('DisplacementControl', ControlNode, 3, DispIncr)  # Control top node in Y direction with 0.01 increment\n",
    "ops.algorithm('Newton')\n",
    "ops.analysis('Static')\n",
    "\n",
    "vfo.createODB(\"Masonry\", \"1\")\n",
    "\n",
    "dataPush = np.zeros((NstepsPush,*nodeArray.shape[:-1]))\n",
    "for j in range(NstepsPush):\n",
    "    ops.analyze(1)\n",
    "    \n",
    "    for k,l in np.ndindex(nodeArray.shape[:-1]):\n",
    "        dataPush[j,k,l] = ops.nodeDisp(int(nodeArray[k,l,0]),3)\n"
   ]
  },
  {
   "cell_type": "code",
   "execution_count": null,
   "id": "0225394f",
   "metadata": {},
   "outputs": [],
   "source": [
    "fig, ax = plt.subplots(1,1,figsize=(10,10))\n",
    "i=9\n",
    "ax.contourf(dataPush[i])"
   ]
  },
  {
   "cell_type": "code",
   "execution_count": null,
   "id": "c969fc64",
   "metadata": {},
   "outputs": [],
   "source": [
    "NstepsPush"
   ]
  },
  {
   "cell_type": "code",
   "execution_count": null,
   "id": "5cc0dc94",
   "metadata": {},
   "outputs": [],
   "source": [
    "import matplotlib.pyplot as plt\n",
    "from mpl_toolkits.mplot3d import Axes3D\n",
    "import vfo.vfo as vfo\n",
    "import opsvis as opsv\n",
    "%matplotlib notebook\n",
    "fig, ax = plt.subplots(1,1,figsize=(10,10),subplot_kw=dict(projection='3d'))\n",
    "\n",
    "#opsv.plot_model(node_labels=1,element_labels=0, ax=ax)\n",
    "opsv.plot_defo(ax=ax, sfac=1)"
   ]
  }
 ],
 "metadata": {
  "kernelspec": {
   "display_name": "Python 3 (ipykernel)",
   "language": "python",
   "name": "python3"
  },
  "language_info": {
   "codemirror_mode": {
    "name": "ipython",
    "version": 3
   },
   "file_extension": ".py",
   "mimetype": "text/x-python",
   "name": "python",
   "nbconvert_exporter": "python",
   "pygments_lexer": "ipython3",
   "version": "3.11.5"
  }
 },
 "nbformat": 4,
 "nbformat_minor": 5
}
